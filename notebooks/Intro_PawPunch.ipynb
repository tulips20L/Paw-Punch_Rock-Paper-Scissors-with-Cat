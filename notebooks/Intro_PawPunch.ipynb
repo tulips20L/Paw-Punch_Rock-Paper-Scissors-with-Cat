{
 "cells": [
  {
   "cell_type": "markdown",
   "id": "c8e55c8b",
   "metadata": {},
   "source": [
    "# Paw-Punch — Play with the Cat Paw! 🐾😺\n",
    "\n",
    "Welcome to Paw-Punch — a cute webcam game where you challenge a cat paw to Rock-Paper-Scissors!\n",
    "This notebook gives a friendly introduction, quick dependency checks, and run instructions.\n"
   ]
  },
  {
   "cell_type": "markdown",
   "id": "51aaf2c3",
   "metadata": {},
   "source": [
    "## What is Paw-Punch? 🎮\n",
    "\n",
    "Paw-Punch uses your webcam and MediaPipe Hands to recognize your hand gesture (rock / paper / scissors).\n",
    "Pygame draws the UI and animations while the game samples several frames and decides your final gesture by majority vote.\n",
    "\n",
    "It's light, fun, and perfect for demos or tinkering with hand-gesture logic. 😸\n"
   ]
  },
  {
   "cell_type": "markdown",
   "id": "9f52552c",
   "metadata": {},
   "source": [
    "## Quick setup ✅\n",
    "\n",
    "1. Create and activate a virtual environment (recommended):\n",
    "\n",
    "```powershell\n",
    "python -m venv .venv\n",
    ".\\\\.venv\\\\Scripts\\\\Activate.ps1\n",
    "```\n",
    "\n",
    "2. Install dependencies:\n",
    "\n",
    "```powershell\n",
    "pip install -r requirements.txt\n",
    "```\n"
   ]
  },
  {
   "cell_type": "code",
   "execution_count": null,
   "id": "49f2fef4",
   "metadata": {},
   "outputs": [],
   "source": [
    "# Dependency & environment quick-check\n",
    "# Run this cell to verify core imports and print basic version info.\n",
    "import importlib\n",
    "packages = ['cv2','mediapipe','pygame','numpy']\n",
    "results = {}\n",
    "for p in packages:\n",
    "    try:\n",
    "        m = importlib.import_module(p)\n",
    "        v = getattr(m, '__version__', None) or getattr(m, 'version', None)\n",
    "        if callable(v):\n",
    "            try:\n",
    "                v = v()\n",
    "            except Exception:\n",
    "                pass\n",
    "        results[p] = ('ok', str(v))\n",
    "    except Exception as e:\n",
    "        results[p] = ('missing', str(e))\n",
    "\n",
    "for pkg, (status, info) in results.items():\n",
    "    print(f'{pkg}: {status} - {info}')\n"
   ]
  },
  {
   "cell_type": "markdown",
   "id": "92b1e874",
   "metadata": {},
   "source": [
    "## How to run 🏁\n",
    "\n",
    "From the project root run (PowerShell example):\n",
    "\n",
    "```powershell\n",
    "python .\\\\scripts\\\\Paw-Punch.py\n",
    "```\n",
    "\n",
    "If your camera index is not 0, update the `cv2.VideoCapture(0)` call in `scripts/Paw-Punch.py` to the correct index.\n"
   ]
  },
  {
   "cell_type": "markdown",
   "id": "f1f987fd",
   "metadata": {},
   "source": [
    "## Play tips & debugging 🔍\n",
    "\n",
    "- If detection feels jittery, open `scripts/Paw-Punch.py` and tweak `THRESH_Y` or increase the buffer sizes used for majority voting.\n",
    "- Enable `SHOW_LANDMARKS = True` to draw MediaPipe landmarks on the camera preview for debugging.\n",
    "- If audio doesn't play, it's probably due to the environment (mixer initialization is wrapped in try/except).\n",
    "\n",
    "Developer note: the gesture recognizer is heuristic-based (TIP vs PIP thresholds). For production, consider collecting labeled images and training a small classifier. 📈\n"
   ]
  },
  {
   "cell_type": "markdown",
   "id": "ec2b010f",
   "metadata": {},
   "source": [
    "## Have fun! 🎉\n",
    "\n",
    "Bring on the cat paw — tweak, play, and share your improvements. Here's a tiny cat to cheer you on:\n",
    "\n",
    "```\n",
    " /\\\\_/\\\\\n",
    "( •ᴥ• )\n",
    " > ^ <\n",
    "```\n",
    "\n"
   ]
  }
 ],
 "metadata": {
  "language_info": {
   "name": "python"
  }
 },
 "nbformat": 4,
 "nbformat_minor": 5
}
